{
 "cells": [
  {
   "cell_type": "code",
   "execution_count": 56,
   "id": "2b713e09-ce82-40e3-8ee6-17bdd1687414",
   "metadata": {},
   "outputs": [
    {
     "data": {
      "text/latex": [
       "$\\displaystyle n = 10$"
      ],
      "text/plain": [
       "<IPython.core.display.Math object>"
      ]
     },
     "metadata": {},
     "output_type": "display_data"
    },
    {
     "data": {
      "text/latex": [
       "$\\displaystyle S = 1 + 2 + 3 + 4 + 5 + 6 + 7 + 8 + 9 + 10$"
      ],
      "text/plain": [
       "<IPython.core.display.Math object>"
      ]
     },
     "metadata": {},
     "output_type": "display_data"
    },
    {
     "name": "stdout",
     "output_type": "stream",
     "text": [
      "逐次計算を使った結果: 55\n"
     ]
    },
    {
     "data": {
      "text/latex": [
       "$\\displaystyle S = \\frac{n(n + 1)}{2}$"
      ],
      "text/plain": [
       "<IPython.core.display.Math object>"
      ]
     },
     "metadata": {},
     "output_type": "display_data"
    },
    {
     "name": "stdout",
     "output_type": "stream",
     "text": [
      "公式を使った結果: 55\n"
     ]
    }
   ],
   "source": [
    "import sympy as sp\n",
    "from IPython.display import display, Math\n",
    "\n",
    "# ガウス和を公式で計算する関数\n",
    "def gauss_sum_formula(n):\n",
    "    return n * (n + 1) // 2\n",
    "\n",
    "# ガウス和を逐次計算で求める関数\n",
    "def iterative_gauss_sum(n):\n",
    "    total = 0\n",
    "    terms = []\n",
    "    for i in range(1, n + 1):\n",
    "        total += i\n",
    "        terms.append(str(i))\n",
    "    return total, \" + \".join(terms)\n",
    "\n",
    "# nを指定\n",
    "N = 10\n",
    "\n",
    "# 公式を使った結果\n",
    "formula_result = gauss_sum_formula(N)\n",
    "\n",
    "# 逐次計算を使った結果\n",
    "iterative_result, sum_expression = iterative_gauss_sum(N)\n",
    "\n",
    "# SymPyを使って公式を数式として表示\n",
    "n = sp.Symbol('n')\n",
    "\n",
    "\n",
    "# LaTeXで数式を表示\n",
    "display(Math(fr\"n = {N}\"))\n",
    "display(Math(fr\"S = {sum_expression}\"))\n",
    "# 結果を表示\n",
    "print(f\"逐次計算を使った結果: {iterative_result}\")\n",
    "\n",
    "# LaTeXで数式を表示\n",
    "display(Math(r\"S = \\frac{n(n + 1)}{2}\"))\n",
    "# 結果を表示\n",
    "print(f\"公式を使った結果: {formula_result}\")\n",
    "# 逐次計算を使った足し算の形式で表示\n",
    "\n",
    "\n",
    "\n"
   ]
  },
  {
   "cell_type": "code",
   "execution_count": null,
   "id": "f6a90074-9518-436e-bbb1-d7e633a57870",
   "metadata": {},
   "outputs": [],
   "source": []
  }
 ],
 "metadata": {
  "kernelspec": {
   "display_name": "Python 3 (ipykernel)",
   "language": "python",
   "name": "python3"
  },
  "language_info": {
   "codemirror_mode": {
    "name": "ipython",
    "version": 3
   },
   "file_extension": ".py",
   "mimetype": "text/x-python",
   "name": "python",
   "nbconvert_exporter": "python",
   "pygments_lexer": "ipython3",
   "version": "3.10.6"
  }
 },
 "nbformat": 4,
 "nbformat_minor": 5
}
