{
 "cells": [
  {
   "cell_type": "code",
   "execution_count": 11,
   "id": "d7daa807-284e-4585-9c64-093acb0c30d5",
   "metadata": {},
   "outputs": [],
   "source": [
    "import sympy as sp\n",
    "from IPython.display import display, Math\n",
    "\n",
    "\n",
    "n = sp.symbols('n')\n",
    "k = sp.symbols('k')\n",
    "i = sp.symbols('i')\n",
    "x = sp.symbols('x')\n",
    "\n",
    "def s(k,n):\n",
    "    expr = sp.summation(x**k, (x, 1, n))\n",
    "    display(Math(sp.latex(expr)))\n",
    "    print('=')\n",
    "    expr = sp.factor(expr)\n",
    "    display(Math(sp.latex(expr)))\n",
    "\n",
    "def s_loop(k,n):\n",
    "    display(Math(sp.latex(Sum(i**k, (i, 1, n)))))"
   ]
  },
  {
   "cell_type": "code",
   "execution_count": 12,
   "id": "680ca05e-12aa-425d-8c1b-545062d60c66",
   "metadata": {},
   "outputs": [
    {
     "data": {
      "text/latex": [
       "$\\displaystyle \\sum_{i=1}^{n} i$"
      ],
      "text/plain": [
       "<IPython.core.display.Math object>"
      ]
     },
     "metadata": {},
     "output_type": "display_data"
    },
    {
     "name": "stdout",
     "output_type": "stream",
     "text": [
      "=\n"
     ]
    },
    {
     "data": {
      "text/latex": [
       "$\\displaystyle \\frac{n^{2}}{2} + \\frac{n}{2}$"
      ],
      "text/plain": [
       "<IPython.core.display.Math object>"
      ]
     },
     "metadata": {},
     "output_type": "display_data"
    },
    {
     "name": "stdout",
     "output_type": "stream",
     "text": [
      "=\n"
     ]
    },
    {
     "data": {
      "text/latex": [
       "$\\displaystyle \\frac{n \\left(n + 1\\right)}{2}$"
      ],
      "text/plain": [
       "<IPython.core.display.Math object>"
      ]
     },
     "metadata": {},
     "output_type": "display_data"
    },
    {
     "name": "stdout",
     "output_type": "stream",
     "text": [
      "----------------------------------------\n"
     ]
    }
   ],
   "source": [
    "N = 1\n",
    "\n",
    "for k in range(1, N + 1):\n",
    "    s_loop(k,n)\n",
    "    print('=')\n",
    "    s(k,n)\n",
    "    print('----------------------------------------')"
   ]
  },
  {
   "cell_type": "code",
   "execution_count": null,
   "id": "d51f0589-fca2-4134-868f-3f9c59aaecfb",
   "metadata": {},
   "outputs": [],
   "source": []
  }
 ],
 "metadata": {
  "kernelspec": {
   "display_name": "Python 3 (ipykernel)",
   "language": "python",
   "name": "python3"
  },
  "language_info": {
   "codemirror_mode": {
    "name": "ipython",
    "version": 3
   },
   "file_extension": ".py",
   "mimetype": "text/x-python",
   "name": "python",
   "nbconvert_exporter": "python",
   "pygments_lexer": "ipython3",
   "version": "3.10.4"
  }
 },
 "nbformat": 4,
 "nbformat_minor": 5
}
