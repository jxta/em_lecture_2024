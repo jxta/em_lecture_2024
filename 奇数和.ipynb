{
 "cells": [
  {
   "cell_type": "code",
   "execution_count": null,
   "id": "49d86e4c-daf3-45c9-b39d-043926c063c9",
   "metadata": {},
   "outputs": [
    {
     "data": {
      "text/latex": [
       "$\\displaystyle n = 5$"
      ],
      "text/plain": [
       "<IPython.core.display.Math object>"
      ]
     },
     "metadata": {},
     "output_type": "display_data"
    },
    {
     "data": {
      "text/latex": [
       "$\\displaystyle S = 1 + 3 + 5 + 7 + 9$"
      ],
      "text/plain": [
       "<IPython.core.display.Math object>"
      ]
     },
     "metadata": {},
     "output_type": "display_data"
    },
    {
     "name": "stdout",
     "output_type": "stream",
     "text": [
      "逐次計算を使った結果: 25\n"
     ]
    },
    {
     "data": {
      "text/latex": [
       "$\\displaystyle S = n^2$"
      ],
      "text/plain": [
       "<IPython.core.display.Math object>"
      ]
     },
     "metadata": {},
     "output_type": "display_data"
    },
    {
     "name": "stdout",
     "output_type": "stream",
     "text": [
      "公式を使った結果: 25\n"
     ]
    }
   ],
   "source": [
    "import sympy as sp\n",
    "from IPython.display import display, Math\n",
    "\n",
    "# 奇数和を公式で計算する関数\n",
    "def odd_sum_formula(n):\n",
    "    # 1からnまでの奇数の数は (n // 2) + 1 で計算できる\n",
    "    num_odds = n\n",
    "    return n**2\n",
    "\n",
    "# 奇数和を逐次計算で求める関数\n",
    "def iterative_odd_sum(n):\n",
    "    total = 0\n",
    "    terms = []\n",
    "    for i in range(1, 2*n, 2):\n",
    "        total += i\n",
    "        terms.append(str(i))\n",
    "    return total, \" + \".join(terms)\n",
    "\n",
    "# Nを指定\n",
    "N = 5  # 奇数までの範囲を指定\n",
    "\n",
    "# 公式を使った結果\n",
    "formula_result = odd_sum_formula(N)\n",
    "\n",
    "# 逐次計算を使った結果\n",
    "iterative_result, sum_expression = iterative_odd_sum(N)\n",
    "\n",
    "# SymPyを使って公式を数式として表示\n",
    "n = sp.Symbol('n')\n",
    "formula = n**2\n",
    "\n",
    "display(Math(fr\"n = {N}\"))\n",
    "# LaTeXで数式を表示\n",
    "display(Math(fr\"S = {sum_expression}\"))\n",
    "# 結果を表示\n",
    "print(f\"逐次計算を使った結果: {iterative_result}\")\n",
    "\n",
    "# LaTeXで数式を表示\n",
    "display(Math(r\"S = n^2\"))\n",
    "# 結果を表示\n",
    "print(f\"公式を使った結果: {formula_result}\")\n",
    "# 逐次計算を使った足し算の形式で表示\n"
   ]
  },
  {
   "cell_type": "code",
   "execution_count": null,
   "id": "0e740a1d-36f9-47dd-82bf-596a33d3e374",
   "metadata": {},
   "outputs": [],
   "source": []
  }
 ],
 "metadata": {
  "kernelspec": {
   "display_name": "Python 3 (ipykernel)",
   "language": "python",
   "name": "python3"
  },
  "language_info": {
   "codemirror_mode": {
    "name": "ipython",
    "version": 3
   },
   "file_extension": ".py",
   "mimetype": "text/x-python",
   "name": "python",
   "nbconvert_exporter": "python",
   "pygments_lexer": "ipython3",
   "version": "3.10.6"
  }
 },
 "nbformat": 4,
 "nbformat_minor": 5
}
