{
 "cells": [
  {
   "cell_type": "markdown",
   "metadata": {
    "id": "XGeWbSmLScfC"
   },
   "source": [
    "# 最短経路にコンピュータで触れてみよう\n",
    "\n",
    "まずははじめに最短経路を紹介し，それをGraphillionを使ってどのように解くかを具体的なコードを交えて解説します．\n",
    "そのためにまずは必要なプログラムを用意します。"
   ]
  },
  {
   "cell_type": "code",
   "execution_count": null,
   "metadata": {
    "colab": {
     "base_uri": "https://localhost:8080/"
    },
    "id": "SEu34gkXScfM",
    "outputId": "e6b9201f-6117-445d-f470-3e411ce5a04b"
   },
   "outputs": [],
   "source": [
    "!pip install graphillion\n",
    "!git clone https://github.com/nsnmsak/graphillion_tutorial\n",
    "!cp graphillion_tutorial/ja/tutorial_util.py ."
   ]
  },
  {
   "cell_type": "markdown",
   "metadata": {
    "id": "iElGvVxBScfP"
   },
   "source": [
    "次にgraphillionモジュールから`GraphSet`と`tutorial`をインポートします．"
   ]
  },
  {
   "cell_type": "code",
   "execution_count": null,
   "metadata": {
    "id": "K74JE5TYScfQ"
   },
   "outputs": [],
   "source": [
    "from graphillion import GraphSet, tutorial\n",
    "from tutorial_util import draw_subgraph, draw_universe"
   ]
  },
  {
   "cell_type": "markdown",
   "metadata": {
    "id": "xOlD7WoHScfp"
   },
   "source": [
    "**最短経路を計算する格子を作ります**"
   ]
  },
  {
   "cell_type": "code",
   "execution_count": null,
   "metadata": {
    "id": "q8SuFleitbZI"
   },
   "outputs": [],
   "source": [
    "import graphillion.tutorial as tl"
   ]
  },
  {
   "cell_type": "code",
   "execution_count": 10,
   "metadata": {
    "colab": {
     "base_uri": "https://localhost:8080/",
     "height": 319
    },
    "id": "_0Apn2_etevN",
    "outputId": "fbd3e4d8-c61e-49c6-be5d-bed7c482bce3"
   },
   "outputs": [
    {
     "data": {
      "image/png": "[encoded data removed]",
      "text/plain": [
       "<Figure size 640x480 with 1 Axes>"
      ]
     },
     "metadata": {},
     "output_type": "display_data"
    }
   ],
   "source": [
    "universe = tl.grid(3, 3)\n",
    "GraphSet.set_universe(universe)\n",
    "tl.draw(universe)  # ユニバースをポップアップウィンドウで表示する"
   ]
  },
  {
   "cell_type": "code",
   "execution_count": null,
   "metadata": {
    "colab": {
     "base_uri": "https://localhost:8080/"
    },
    "id": "ohGGve3Rt7KN",
    "outputId": "1961b36a-06df-4717-bbe3-ff60c63cd47d",
    "scrolled": false
   },
   "outputs": [],
   "source": [
    "start = 1\n",
    "goal = 16\n",
    "paths = GraphSet.paths(start, goal)\n",
    "i = 0\n",
    "for path in paths:\n",
    "    if len(path) == 6:\n",
    "        i = i + 1\n",
    "        tl.draw(path)\n",
    "        print(\"==================================================================\")\n",
    "print(i)"
   ]
  },
  {
   "cell_type": "code",
   "execution_count": null,
   "metadata": {},
   "outputs": [],
   "source": [
    "universe = tl.grid(4, 4)\n",
    "GraphSet.set_universe(universe)\n",
    "tl.draw(universe)  # ユニバースをポップアップウィンドウで表示する"
   ]
  },
  {
   "cell_type": "code",
   "execution_count": null,
   "metadata": {
    "scrolled": false
   },
   "outputs": [],
   "source": [
    "start = 1\n",
    "goal = 25\n",
    "paths = GraphSet.paths(start, goal)\n",
    "i = 0\n",
    "for path in paths:\n",
    "    if len(path) == 8:\n",
    "        i = i + 1\n",
    "        tl.draw(path)\n",
    "        print(\"==================================================================\")\n",
    "print(i)"
   ]
  },
  {
   "cell_type": "code",
   "execution_count": null,
   "metadata": {},
   "outputs": [],
   "source": [
    "universe = tl.grid(5, 5)\n",
    "GraphSet.set_universe(universe)\n",
    "tl.draw(universe)  # ユニバースをポップアップウィンドウで表示する"
   ]
  },
  {
   "cell_type": "code",
   "execution_count": null,
   "metadata": {
    "scrolled": false
   },
   "outputs": [],
   "source": [
    "start = 1\n",
    "goal = 36\n",
    "paths = GraphSet.paths(start, goal)\n",
    "i = 0\n",
    "for path in paths:\n",
    "    if len(path) == 10:\n",
    "        i = i + 1\n",
    "        tl.draw(path)\n",
    "        print(\"==================================================================\")\n",
    "print(i)"
   ]
  },
  {
   "cell_type": "code",
   "execution_count": null,
   "metadata": {},
   "outputs": [],
   "source": []
  }
 ],
 "metadata": {
  "colab": {
   "name": "04_graphillion_first_step.ipynb",
   "provenance": []
  },
  "kernelspec": {
   "display_name": "Python 3 (ipykernel)",
   "language": "python",
   "name": "python3"
  },
  "language_info": {
   "codemirror_mode": {
    "name": "ipython",
    "version": 3
   },
   "file_extension": ".py",
   "mimetype": "text/x-python",
   "name": "python",
   "nbconvert_exporter": "python",
   "pygments_lexer": "ipython3",
   "version": "3.10.10"
  }
 },
 "nbformat": 4,
 "nbformat_minor": 1
}
