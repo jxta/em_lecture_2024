{
 "cells": [
  {
   "cell_type": "code",
   "execution_count": 15,
   "id": "31f49bfd-fef3-42c7-8b5a-8c33614ffe8b",
   "metadata": {},
   "outputs": [
    {
     "data": {
      "image/png": "[encoded data removed]",
      "text/latex": [
       "$\\displaystyle x^{3} - \\frac{3 x^{2}}{2} + \\frac{x}{2}$"
      ],
      "text/plain": [
       "        2    \n",
       " 3   3⋅x    x\n",
       "x  - ──── + ─\n",
       "      2     2"
      ]
     },
     "execution_count": 15,
     "metadata": {},
     "output_type": "execute_result"
    }
   ],
   "source": [
    "sp.init_printing()\n",
    "x = sp.symbols('x')\n",
    "m = 3\n",
    "expr = bernoulli_polynomial(m, x)\n",
    "expr"
   ]
  },
  {
   "cell_type": "code",
   "execution_count": 16,
   "id": "c6babca7-6207-4140-add3-8217fa685ff9",
   "metadata": {},
   "outputs": [
    {
     "data": {
      "image/png": "[encoded data removed]",
      "text/latex": [
       "$\\displaystyle x^{4} - 2 x^{3} + x^{2} - \\frac{1}{30}$"
      ],
      "text/plain": [
       " 4      3    2   1 \n",
       "x  - 2⋅x  + x  - ──\n",
       "                 30"
      ]
     },
     "execution_count": 16,
     "metadata": {},
     "output_type": "execute_result"
    }
   ],
   "source": [
    "sp.init_printing()\n",
    "x = sp.symbols('x')\n",
    "m = 4\n",
    "expr = bernoulli_polynomial(m, x)\n",
    "expr"
   ]
  },
  {
   "cell_type": "code",
   "execution_count": 17,
   "id": "27ced9fb-39f8-4780-bb23-70abae72c2ac",
   "metadata": {},
   "outputs": [
    {
     "data": {
      "image/png": "[encoded data removed]",
      "text/latex": [
       "$\\displaystyle - \\frac{1}{30}$"
      ],
      "text/plain": [
       "-1/30"
      ]
     },
     "execution_count": 17,
     "metadata": {},
     "output_type": "execute_result"
    }
   ],
   "source": [
    "bernoulli_polynomial(4,1)"
   ]
  },
  {
   "cell_type": "code",
   "execution_count": 26,
   "id": "7d8368db-3bbf-4e73-8364-147b9f77879b",
   "metadata": {},
   "outputs": [
    {
     "data": {
      "image/png": "[encoded data removed]",
      "text/latex": [
       "$\\displaystyle \\frac{x \\left(x + 1\\right)}{2}$"
      ],
      "text/plain": [
       "x⋅(x + 1)\n",
       "─────────\n",
       "    2    "
      ]
     },
     "execution_count": 26,
     "metadata": {},
     "output_type": "execute_result"
    }
   ],
   "source": [
    "m = 1\n",
    "expr = sp.factor((bernoulli_polynomial(m+1,x+1) - bernoulli_polynomial(m+1,1))/(m+1))\n",
    "expr"
   ]
  },
  {
   "cell_type": "code",
   "execution_count": 35,
   "id": "a6ceeafe-d1fd-467c-b4f0-1a1534396975",
   "metadata": {},
   "outputs": [
    {
     "data": {
      "text/latex": [
       "$\\displaystyle 1$"
      ],
      "text/plain": [
       "<IPython.core.display.Math object>"
      ]
     },
     "metadata": {},
     "output_type": "display_data"
    },
    {
     "data": {
      "text/latex": [
       "$\\displaystyle x - \\frac{1}{2}$"
      ],
      "text/plain": [
       "<IPython.core.display.Math object>"
      ]
     },
     "metadata": {},
     "output_type": "display_data"
    },
    {
     "data": {
      "text/latex": [
       "$\\displaystyle x^{2} - x + \\frac{1}{6}$"
      ],
      "text/plain": [
       "<IPython.core.display.Math object>"
      ]
     },
     "metadata": {},
     "output_type": "display_data"
    },
    {
     "data": {
      "text/latex": [
       "$\\displaystyle x^{3} - \\frac{3 x^{2}}{2} + \\frac{x}{2}$"
      ],
      "text/plain": [
       "<IPython.core.display.Math object>"
      ]
     },
     "metadata": {},
     "output_type": "display_data"
    },
    {
     "data": {
      "text/latex": [
       "$\\displaystyle x^{4} - 2 x^{3} + x^{2} - \\frac{1}{30}$"
      ],
      "text/plain": [
       "<IPython.core.display.Math object>"
      ]
     },
     "metadata": {},
     "output_type": "display_data"
    },
    {
     "data": {
      "text/latex": [
       "$\\displaystyle x^{5} - \\frac{5 x^{4}}{2} + \\frac{5 x^{3}}{3} - \\frac{x}{6}$"
      ],
      "text/plain": [
       "<IPython.core.display.Math object>"
      ]
     },
     "metadata": {},
     "output_type": "display_data"
    },
    {
     "data": {
      "text/latex": [
       "$\\displaystyle x^{6} - 3 x^{5} + \\frac{5 x^{4}}{2} - \\frac{x^{2}}{2} + \\frac{1}{42}$"
      ],
      "text/plain": [
       "<IPython.core.display.Math object>"
      ]
     },
     "metadata": {},
     "output_type": "display_data"
    },
    {
     "data": {
      "text/latex": [
       "$\\displaystyle x^{7} - \\frac{7 x^{6}}{2} + \\frac{7 x^{5}}{2} - \\frac{7 x^{3}}{6} + \\frac{x}{6}$"
      ],
      "text/plain": [
       "<IPython.core.display.Math object>"
      ]
     },
     "metadata": {},
     "output_type": "display_data"
    },
    {
     "data": {
      "text/latex": [
       "$\\displaystyle x^{8} - 4 x^{7} + \\frac{14 x^{6}}{3} - \\frac{7 x^{4}}{3} + \\frac{2 x^{2}}{3} - \\frac{1}{30}$"
      ],
      "text/plain": [
       "<IPython.core.display.Math object>"
      ]
     },
     "metadata": {},
     "output_type": "display_data"
    },
    {
     "data": {
      "text/latex": [
       "$\\displaystyle x^{9} - \\frac{9 x^{8}}{2} + 6 x^{7} - \\frac{21 x^{5}}{5} + 2 x^{3} - \\frac{3 x}{10}$"
      ],
      "text/plain": [
       "<IPython.core.display.Math object>"
      ]
     },
     "metadata": {},
     "output_type": "display_data"
    },
    {
     "data": {
      "text/latex": [
       "$\\displaystyle x^{10} - 5 x^{9} + \\frac{15 x^{8}}{2} - 7 x^{6} + 5 x^{4} - \\frac{3 x^{2}}{2} + \\frac{5}{66}$"
      ],
      "text/plain": [
       "<IPython.core.display.Math object>"
      ]
     },
     "metadata": {},
     "output_type": "display_data"
    }
   ],
   "source": [
    "from IPython.display import display, Math\n",
    "\n",
    "x = sp.symbols('x')\n",
    "N = 10\n",
    "for m in range(N+1):\n",
    "    expr = bernoulli_polynomial(m, x)\n",
    "    display(Math(sp.latex(expr)))"
   ]
  },
  {
   "cell_type": "code",
   "execution_count": 34,
   "id": "43914f31-cedd-429b-8ea5-3f25dfe38b64",
   "metadata": {},
   "outputs": [
    {
     "data": {
      "text/latex": [
       "$\\displaystyle x$"
      ],
      "text/plain": [
       "<IPython.core.display.Math object>"
      ]
     },
     "metadata": {},
     "output_type": "display_data"
    },
    {
     "data": {
      "text/latex": [
       "$\\displaystyle \\frac{x \\left(x + 1\\right)}{2}$"
      ],
      "text/plain": [
       "<IPython.core.display.Math object>"
      ]
     },
     "metadata": {},
     "output_type": "display_data"
    },
    {
     "data": {
      "text/latex": [
       "$\\displaystyle \\frac{x \\left(x + 1\\right) \\left(2 x + 1\\right)}{6}$"
      ],
      "text/plain": [
       "<IPython.core.display.Math object>"
      ]
     },
     "metadata": {},
     "output_type": "display_data"
    },
    {
     "data": {
      "text/latex": [
       "$\\displaystyle \\frac{x^{2} \\left(x + 1\\right)^{2}}{4}$"
      ],
      "text/plain": [
       "<IPython.core.display.Math object>"
      ]
     },
     "metadata": {},
     "output_type": "display_data"
    },
    {
     "data": {
      "text/latex": [
       "$\\displaystyle \\frac{x \\left(x + 1\\right) \\left(2 x + 1\\right) \\left(3 x^{2} + 3 x - 1\\right)}{30}$"
      ],
      "text/plain": [
       "<IPython.core.display.Math object>"
      ]
     },
     "metadata": {},
     "output_type": "display_data"
    },
    {
     "data": {
      "text/latex": [
       "$\\displaystyle \\frac{x^{2} \\left(x + 1\\right)^{2} \\cdot \\left(2 x^{2} + 2 x - 1\\right)}{12}$"
      ],
      "text/plain": [
       "<IPython.core.display.Math object>"
      ]
     },
     "metadata": {},
     "output_type": "display_data"
    },
    {
     "data": {
      "text/latex": [
       "$\\displaystyle \\frac{x \\left(x + 1\\right) \\left(2 x + 1\\right) \\left(3 x^{4} + 6 x^{3} - 3 x + 1\\right)}{42}$"
      ],
      "text/plain": [
       "<IPython.core.display.Math object>"
      ]
     },
     "metadata": {},
     "output_type": "display_data"
    },
    {
     "data": {
      "text/latex": [
       "$\\displaystyle \\frac{x^{2} \\left(x + 1\\right)^{2} \\cdot \\left(3 x^{4} + 6 x^{3} - x^{2} - 4 x + 2\\right)}{24}$"
      ],
      "text/plain": [
       "<IPython.core.display.Math object>"
      ]
     },
     "metadata": {},
     "output_type": "display_data"
    },
    {
     "data": {
      "text/latex": [
       "$\\displaystyle \\frac{x \\left(x + 1\\right) \\left(2 x + 1\\right) \\left(5 x^{6} + 15 x^{5} + 5 x^{4} - 15 x^{3} - x^{2} + 9 x - 3\\right)}{90}$"
      ],
      "text/plain": [
       "<IPython.core.display.Math object>"
      ]
     },
     "metadata": {},
     "output_type": "display_data"
    },
    {
     "data": {
      "text/latex": [
       "$\\displaystyle \\frac{x^{2} \\left(x + 1\\right)^{2} \\left(x^{2} + x - 1\\right) \\left(2 x^{4} + 4 x^{3} - x^{2} - 3 x + 3\\right)}{20}$"
      ],
      "text/plain": [
       "<IPython.core.display.Math object>"
      ]
     },
     "metadata": {},
     "output_type": "display_data"
    },
    {
     "data": {
      "text/latex": [
       "$\\displaystyle \\frac{x \\left(x + 1\\right) \\left(2 x + 1\\right) \\left(x^{2} + x - 1\\right) \\left(3 x^{6} + 9 x^{5} + 2 x^{4} - 11 x^{3} + 3 x^{2} + 10 x - 5\\right)}{66}$"
      ],
      "text/plain": [
       "<IPython.core.display.Math object>"
      ]
     },
     "metadata": {},
     "output_type": "display_data"
    }
   ],
   "source": [
    "from IPython.display import display, Math\n",
    "\n",
    "x = sp.symbols('x')\n",
    "N = 10\n",
    "for m in range(N+1):\n",
    "    expr = sp.factor((bernoulli_polynomial(m+1,x+1) - bernoulli_polynomial(m+1,1))/(m+1))\n",
    "    display(Math(sp.latex(expr)))"
   ]
  },
  {
   "cell_type": "code",
   "execution_count": null,
   "id": "6eb94c7d-835c-45eb-bbbf-7a71eb867364",
   "metadata": {},
   "outputs": [],
   "source": []
  }
 ],
 "metadata": {
  "kernelspec": {
   "display_name": "Python 3 (ipykernel)",
   "language": "python",
   "name": "python3"
  },
  "language_info": {
   "codemirror_mode": {
    "name": "ipython",
    "version": 3
   },
   "file_extension": ".py",
   "mimetype": "text/x-python",
   "name": "python",
   "nbconvert_exporter": "python",
   "pygments_lexer": "ipython3",
   "version": "3.10.6"
  }
 },
 "nbformat": 4,
 "nbformat_minor": 5
}
