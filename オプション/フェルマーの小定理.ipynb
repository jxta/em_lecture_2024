{
 "cells": [
  {
   "cell_type": "markdown",
   "metadata": {
    "lc_cell_meme": {
     "current": "47a2aeda-8c15-11e9-8556-02420a010127",
     "next": "a8ff1a4a-7f56-11e9-a4fd-02420a01012b",
     "previous": null
    }
   },
   "source": [
    "**素数表**\n",
    "https://www.benricho.org/primenumber/"
   ]
  },
  {
   "cell_type": "code",
   "execution_count": null,
   "metadata": {
    "lc_cell_meme": {
     "current": "a8ff1a4a-7f56-11e9-a4fd-02420a01012b",
     "history": [
      {
       "current": "a8ff1a4a-7f56-11e9-a4fd-02420a01012b",
       "next": null,
       "previous": null
      },
      {
       "current": "a8ff1a4a-7f56-11e9-a4fd-02420a01012b",
       "next": "f0f5e6f8-7f56-11e9-a4fd-02420a01012b",
       "previous": null
      },
      {
       "current": "a8ff1a4a-7f56-11e9-a4fd-02420a01012b",
       "next": "f0f5e82e-7f56-11e9-a4fd-02420a01012b",
       "previous": null
      },
      {
       "current": "a8ff1a4a-7f56-11e9-a4fd-02420a01012b",
       "next": "f0f5e82e-7f56-11e9-a4fd-02420a01012b",
       "previous": "47a2aeda-8c15-11e9-8556-02420a010127"
      },
      {
       "current": "a8ff1a4a-7f56-11e9-a4fd-02420a01012b",
       "next": "0eaee69e-7f58-11e9-a4fd-02420a01012b",
       "previous": "47a2aeda-8c15-11e9-8556-02420a010127"
      }
     ],
     "next": "6d04b564-994a-11e9-8556-02420a010127",
     "previous": "47a2aeda-8c15-11e9-8556-02420a010127"
    },
    "lc_wrapper": {
     "log_history": [
      "/home/yoko69d621/textbook/nw_sec/.log/20190917/20190917-214220-0939.log",
      "/home/yoko69d621/textbook/nw_sec/.log/20190918/20190918-015741-0977.log"
     ]
    }
   },
   "outputs": [],
   "source": [
    "import pandas as pd\n",
    "import numpy as np"
   ]
  },
  {
   "cell_type": "markdown",
   "metadata": {
    "lc_cell_meme": {
     "current": "6d04b564-994a-11e9-8556-02420a010127",
     "next": "0eaee69e-7f58-11e9-a4fd-02420a01012b",
     "previous": "a8ff1a4a-7f56-11e9-a4fd-02420a01012b"
    }
   },
   "source": [
    "**法をnとするべき乗について計算実験してみましょう！**　<br>\n",
    "**法をnを素数にした場合とそうでない場合について何か大きな違いに気がつきませんか？**"
   ]
  },
  {
   "cell_type": "code",
   "execution_count": null,
   "metadata": {
    "lc_cell_meme": {
     "current": "0eaee69e-7f58-11e9-a4fd-02420a01012b",
     "history": [
      {
       "current": "0eaee69e-7f58-11e9-a4fd-02420a01012b",
       "next": null,
       "previous": "0eaee4f0-7f58-11e9-a4fd-02420a01012b"
      },
      {
       "current": "0eaee69e-7f58-11e9-a4fd-02420a01012b",
       "next": null,
       "previous": "e59c8012-7f58-11e9-a4fd-02420a01012b"
      },
      {
       "current": "0eaee69e-7f58-11e9-a4fd-02420a01012b",
       "next": null,
       "previous": "a649e46a-7f83-11e9-a4fd-02420a01012b"
      },
      {
       "current": "0eaee69e-7f58-11e9-a4fd-02420a01012b",
       "next": "3425531e-7f84-11e9-a4fd-02420a01012b",
       "previous": "a649e46a-7f83-11e9-a4fd-02420a01012b"
      },
      {
       "current": "0eaee69e-7f58-11e9-a4fd-02420a01012b",
       "next": null,
       "previous": "e59c8012-7f58-11e9-a4fd-02420a01012b"
      },
      {
       "current": "0eaee69e-7f58-11e9-a4fd-02420a01012b",
       "next": null,
       "previous": "e59c8012-7f58-11e9-a4fd-02420a01012b"
      },
      {
       "current": "0eaee69e-7f58-11e9-a4fd-02420a01012b",
       "next": "20b55172-8005-11e9-a4fd-02420a01012b",
       "previous": "e59c8012-7f58-11e9-a4fd-02420a01012b"
      },
      {
       "current": "0eaee69e-7f58-11e9-a4fd-02420a01012b",
       "next": "20b55172-8005-11e9-a4fd-02420a01012b",
       "previous": "a8ff1a4a-7f56-11e9-a4fd-02420a01012b"
      },
      {
       "current": "0eaee69e-7f58-11e9-a4fd-02420a01012b",
       "next": "20b55172-8005-11e9-a4fd-02420a01012b",
       "previous": "6d04b564-994a-11e9-8556-02420a010127"
      },
      {
       "current": "0eaee69e-7f58-11e9-a4fd-02420a01012b",
       "next": "6d04b564-994a-11e9-8556-02420a010127",
       "previous": "6d04b564-994a-11e9-8556-02420a010127"
      }
     ],
     "next": "439693ea-994b-11e9-8556-02420a010127",
     "previous": "6d04b564-994a-11e9-8556-02420a010127"
    },
    "lc_wrapper": {
     "log_history": [
      "/home/yoko69d621/textbook/nw_sec/.log/20190917/20190917-214216-0110.log",
      "/home/yoko69d621/textbook/nw_sec/.log/20190917/20190917-214426-0909.log",
      "/home/yoko69d621/textbook/nw_sec/.log/20190917/20190917-214840-0229.log",
      "/home/yoko69d621/textbook/nw_sec/.log/20190917/20190917-214926-0595.log",
      "/home/yoko69d621/textbook/nw_sec/.log/20190917/20190917-214934-0277.log",
      "/home/yoko69d621/textbook/nw_sec/.log/20190917/20190917-214944-0638.log",
      "/home/yoko69d621/textbook/nw_sec/.log/20190918/20190918-015746-0133.log",
      "/home/yoko69d621/textbook/nw_sec/.log/20190922/20190922-043313-0747.log"
     ]
    },
    "scrolled": false
   },
   "outputs": [],
   "source": [
    "n = 17\n",
    "data=np.zeros((n-1,n-1))\n",
    "\n",
    "for i in range(1,n):\n",
    "    for j in range(1,n):\n",
    "        data[i-1][j-1] = int((i**j) % n )\n",
    "\n",
    "df = pd.DataFrame(data, dtype='int')\n",
    "df = df.rename(columns=lambda s:   'a**'+ str(s+1), index=lambda s: 'a=' +str(s+1) )\n",
    "df"
   ]
  },
  {
   "cell_type": "markdown",
   "metadata": {
    "lc_cell_meme": {
     "current": "439693ea-994b-11e9-8556-02420a010127",
     "next": "4396961a-994b-11e9-8556-02420a010127",
     "previous": "0eaee69e-7f58-11e9-a4fd-02420a01012b"
    }
   },
   "source": [
    "**発見した法則を教えてください。**"
   ]
  },
  {
   "cell_type": "code",
   "execution_count": null,
   "metadata": {
    "lc_cell_meme": {
     "current": "4396961a-994b-11e9-8556-02420a010127",
     "next": "6d04b564-994a-11e9-8556-02420a010127",
     "previous": "439693ea-994b-11e9-8556-02420a010127"
    }
   },
   "outputs": [],
   "source": [
    "ANSWER_1 = input(\"PROBLEM_1= 発見した法則を記入してください。\")\n",
    "print(\"ANSWER_1 ==\", ANSWER_1)"
   ]
  },
  {
   "cell_type": "markdown",
   "metadata": {
    "lc_cell_meme": {
     "current": "6d04b564-994a-11e9-8556-02420a010127",
     "history": [
      {
       "current": "6d04b564-994a-11e9-8556-02420a010127",
       "next": "0eaee69e-7f58-11e9-a4fd-02420a01012b",
       "previous": "a8ff1a4a-7f56-11e9-a4fd-02420a01012b"
      },
      {
       "current": "6d04b564-994a-11e9-8556-02420a010127",
       "next": "20b55172-8005-11e9-a4fd-02420a01012b",
       "previous": "0eaee69e-7f58-11e9-a4fd-02420a01012b"
      }
     ],
     "next": "20b55172-8005-11e9-a4fd-02420a01012b",
     "previous": "4396961a-994b-11e9-8556-02420a010127"
    }
   },
   "source": [
    "**発見した法則について計算実験で検証してみましょう！**　<br>\n",
    "**法則は成り立っていますか？**"
   ]
  },
  {
   "cell_type": "code",
   "execution_count": null,
   "metadata": {
    "lc_cell_meme": {
     "current": "20b55172-8005-11e9-a4fd-02420a01012b",
     "history": [
      {
       "current": "20b55172-8005-11e9-a4fd-02420a01012b",
       "next": "20b55366-8005-11e9-a4fd-02420a01012b",
       "previous": "0eaee69e-7f58-11e9-a4fd-02420a01012b"
      },
      {
       "current": "20b55172-8005-11e9-a4fd-02420a01012b",
       "next": "20b55366-8005-11e9-a4fd-02420a01012b",
       "previous": "20b55172-8005-11e9-a4fd-02420a01012b"
      },
      {
       "current": "20b55172-8005-11e9-a4fd-02420a01012b",
       "next": "c7a92b44-81d0-11e9-a4fd-02420a01012b",
       "previous": "0eaee69e-7f58-11e9-a4fd-02420a01012b"
      },
      {
       "current": "20b55172-8005-11e9-a4fd-02420a01012b",
       "next": "c7a92b44-81d0-11e9-a4fd-02420a01012b",
       "previous": "6d04b564-994a-11e9-8556-02420a010127"
      }
     ],
     "next": "20b55366-8005-11e9-a4fd-02420a01012b",
     "previous": "6d04b564-994a-11e9-8556-02420a010127"
    },
    "lc_wrapper": {
     "log_history": [
      "/home/yoko69d621/textbook/nw_sec/.log/20190922/20190922-043610-0742.log"
     ]
    }
   },
   "outputs": [],
   "source": [
    "n_list=[3,5,7,11,13,17,19,23,29] # primes"
   ]
  },
  {
   "cell_type": "code",
   "execution_count": null,
   "metadata": {
    "lc_cell_meme": {
     "current": "20b55366-8005-11e9-a4fd-02420a01012b",
     "history": [
      {
       "current": "20b55366-8005-11e9-a4fd-02420a01012b",
       "next": null,
       "previous": "20b55172-8005-11e9-a4fd-02420a01012b"
      },
      {
       "current": "20b55366-8005-11e9-a4fd-02420a01012b",
       "next": null,
       "previous": "c7a92b44-81d0-11e9-a4fd-02420a01012b"
      },
      {
       "current": "20b55366-8005-11e9-a4fd-02420a01012b",
       "next": "d29f4848-994b-11e9-8556-02420a010127",
       "previous": "c7a92b44-81d0-11e9-a4fd-02420a01012b"
      }
     ],
     "next": "d29f4848-994b-11e9-8556-02420a010127",
     "previous": "20b55172-8005-11e9-a4fd-02420a01012b"
    },
    "lc_wrapper": {
     "log_history": [
      "/home/yoko69d621/textbook/nw_sec/.log/20190922/20190922-043613-0630.log"
     ]
    }
   },
   "outputs": [],
   "source": [
    "pd.set_option(\"display.max_columns\", 70)\n",
    "pd.set_option(\"display.max_rows\", 300)\n",
    "\n",
    "for n in n_list:\n",
    "    data=np.zeros((n-1,n-1))\n",
    "    for i in range(1,n):\n",
    "        for j in range(1,n):\n",
    "            data[i-1][j-1] = int((i**j) % n )\n",
    "    df = pd.DataFrame(data, dtype='int')\n",
    "    df = df.rename(columns=lambda s:   'a**'+ str(s+1), index=lambda s: 'a=' +str(s+1) )\n",
    "    df\n",
    "    print('-----------------------')\n",
    "    print('mod('+str(n)+')')\n",
    "    display(df)"
   ]
  },
  {
   "cell_type": "markdown",
   "metadata": {
    "lc_cell_meme": {
     "current": "d29f4848-994b-11e9-8556-02420a010127",
     "next": "4396961a-994b-11e9-8556-02420a010127",
     "previous": "20b55366-8005-11e9-a4fd-02420a01012b"
    }
   },
   "source": [
    "**発見した法則を証明してみてください。**"
   ]
  },
  {
   "cell_type": "code",
   "execution_count": null,
   "metadata": {
    "lc_cell_meme": {
     "current": "4396961a-994b-11e9-8556-02420a010127",
     "history": [
      {
       "current": "4396961a-994b-11e9-8556-02420a010127",
       "next": "6d04b564-994a-11e9-8556-02420a010127",
       "previous": "439693ea-994b-11e9-8556-02420a010127"
      }
     ],
     "next": null,
     "previous": "d29f4848-994b-11e9-8556-02420a010127"
    }
   },
   "outputs": [],
   "source": [
    "ANSWER_2 = input(\"PROBLEM_2= 発見した法則を証明てください。ネット上にある証明へのリンクでも結構です。\")\n",
    "print(\"ANSWER_2 ==\", ANSWER_2)"
   ]
  }
 ],
 "metadata": {
  "celltoolbar": "Edit Metadata",
  "kernelspec": {
   "display_name": "Python 3",
   "language": "python",
   "name": "python3"
  },
  "language_info": {
   "file_extension": ".py",
   "mimetype": "text/x-python",
   "name": "python",
   "nbconvert_exporter": "python",
   "pygments_lexer": "ipython3",
   "version": "3.7.3"
  },
  "lc_notebook_meme": {
   "current": "a8ff14d2-7f56-11e9-a4fd-02420a01012b",
   "lc_server_signature": {
    "current": {
     "notebook_dir": "/home/yoko69d621",
     "notebook_path": "/textbook/nw_sec",
     "server_url": "https://nb03.ecloud.nii.ac.jp/user/yoko69d621/",
     "signature_id": "5e786c6e-5fea-11e9-b810-02420a00005a"
    },
    "history": [
     {
      "notebook_dir": "/home/eaaca696",
      "notebook_path": "/",
      "server_url": "https://nb03.ecloud.nii.ac.jp/user/eaaca696/",
      "signature_id": "819b57f8-665a-11e9-8bf9-02420a0000c2"
     },
     {
      "notebook_dir": "/home/yoko69d621",
      "notebook_path": "/test",
      "server_url": "https://nb03.ecloud.nii.ac.jp/user/yoko69d621/",
      "signature_id": "5e786c6e-5fea-11e9-b810-02420a00005a"
     }
    ]
   }
  },
  "toc": {
   "base_numbering": 1,
   "nav_menu": {},
   "number_sections": true,
   "sideBar": true,
   "skip_h1_title": false,
   "title_cell": "Table of Contents",
   "title_sidebar": "Contents",
   "toc_cell": false,
   "toc_position": {},
   "toc_section_display": true,
   "toc_window_display": false
  }
 },
 "nbformat": 4,
 "nbformat_minor": 2
}
