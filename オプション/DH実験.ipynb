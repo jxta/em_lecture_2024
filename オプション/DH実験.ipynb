{
 "cells": [
  {
   "cell_type": "markdown",
   "metadata": {
    "lc_cell_meme": {
     "current": "34dcad60-c0ed-11ea-bd7d-02420a010115",
     "next": "01a4a5a6-6fa9-11e9-96dc-02420a00000b",
     "previous": null
    }
   },
   "source": [
    "**＜実習的実験＞**"
   ]
  },
  {
   "cell_type": "markdown",
   "metadata": {
    "lc_cell_meme": {
     "current": "01a4a5a6-6fa9-11e9-96dc-02420a00000b",
     "history": [
      {
       "current": "01a4a5a6-6fa9-11e9-96dc-02420a00000b",
       "next": "01a4a61e-6fa9-11e9-96dc-02420a00000b",
       "previous": null
      }
     ],
     "next": "01a4a61e-6fa9-11e9-96dc-02420a00000b",
     "previous": "34dcad60-c0ed-11ea-bd7d-02420a010115"
    }
   },
   "source": [
    "**対称鍵暗号に触れてみる**"
   ]
  },
  {
   "cell_type": "markdown",
   "metadata": {
    "lc_cell_meme": {
     "current": "01a4a61e-6fa9-11e9-96dc-02420a00000b",
     "next": "01a4a65a-6fa9-11e9-96dc-02420a00000b",
     "previous": "01a4a5a6-6fa9-11e9-96dc-02420a00000b"
    }
   },
   "source": [
    "**平文を入力**"
   ]
  },
  {
   "cell_type": "code",
   "execution_count": null,
   "metadata": {
    "lc_cell_meme": {
     "current": "01a4a65a-6fa9-11e9-96dc-02420a00000b",
     "next": "01a4a68c-6fa9-11e9-96dc-02420a00000b",
     "previous": "01a4a61e-6fa9-11e9-96dc-02420a00000b"
    }
   },
   "outputs": [],
   "source": [
    "plane_text=input(\"平文を入力:\")\n",
    "print(plane_text)"
   ]
  },
  {
   "cell_type": "markdown",
   "metadata": {
    "lc_cell_meme": {
     "current": "01a4a68c-6fa9-11e9-96dc-02420a00000b",
     "next": "01a4a6c8-6fa9-11e9-96dc-02420a00000b",
     "previous": "01a4a65a-6fa9-11e9-96dc-02420a00000b"
    }
   },
   "source": [
    "**ずらす幅を入力**"
   ]
  },
  {
   "cell_type": "code",
   "execution_count": null,
   "metadata": {
    "lc_cell_meme": {
     "current": "01a4a6c8-6fa9-11e9-96dc-02420a00000b",
     "next": "01a4a6fa-6fa9-11e9-96dc-02420a00000b",
     "previous": "01a4a68c-6fa9-11e9-96dc-02420a00000b"
    }
   },
   "outputs": [],
   "source": [
    "offset=input(\"置換幅を入力: \")\n",
    "print(offset)"
   ]
  },
  {
   "cell_type": "markdown",
   "metadata": {
    "lc_cell_meme": {
     "current": "01a4a6fa-6fa9-11e9-96dc-02420a00000b",
     "next": "01a4a736-6fa9-11e9-96dc-02420a00000b",
     "previous": "01a4a6c8-6fa9-11e9-96dc-02420a00000b"
    }
   },
   "source": [
    "**暗号化し暗号文を表示**"
   ]
  },
  {
   "cell_type": "code",
   "execution_count": null,
   "metadata": {
    "lc_cell_meme": {
     "current": "01a4a736-6fa9-11e9-96dc-02420a00000b",
     "next": "01a4a768-6fa9-11e9-96dc-02420a00000b",
     "previous": "01a4a6fa-6fa9-11e9-96dc-02420a00000b"
    }
   },
   "outputs": [],
   "source": [
    "size=len(plane_text)\n",
    "cipher_text=[]\n",
    "decipher_text=[]\n",
    "offset=int(offset)%26\n",
    "for i in range(size):\n",
    "    cipher_text.append(0)\n",
    "    decipher_text.append(0)\n",
    "for i in range(size):\n",
    "    cipher_text[i]=chr(ord(plane_text[i])+offset)\n",
    "print(cipher_text)"
   ]
  },
  {
   "cell_type": "markdown",
   "metadata": {
    "lc_cell_meme": {
     "current": "01a4a768-6fa9-11e9-96dc-02420a00000b",
     "next": "01a4a79a-6fa9-11e9-96dc-02420a00000b",
     "previous": "01a4a736-6fa9-11e9-96dc-02420a00000b"
    }
   },
   "source": [
    "**復号化し復号文を表示**"
   ]
  },
  {
   "cell_type": "code",
   "execution_count": null,
   "metadata": {
    "lc_cell_meme": {
     "current": "01a4a79a-6fa9-11e9-96dc-02420a00000b",
     "next": "01a4a7cc-6fa9-11e9-96dc-02420a00000b",
     "previous": "01a4a768-6fa9-11e9-96dc-02420a00000b"
    }
   },
   "outputs": [],
   "source": [
    "for i in range(size):\n",
    "    decipher_text[i]=chr(ord(cipher_text[i])-offset)\n",
    "print(decipher_text)"
   ]
  },
  {
   "cell_type": "markdown",
   "metadata": {
    "lc_cell_meme": {
     "current": "01a4a7cc-6fa9-11e9-96dc-02420a00000b",
     "next": "01a4a7fe-6fa9-11e9-96dc-02420a00000b",
     "previous": "01a4a79a-6fa9-11e9-96dc-02420a00000b"
    }
   },
   "source": [
    "**暗号破りを体験 （置換幅が分からない攻撃者が総当たり攻撃）** "
   ]
  },
  {
   "cell_type": "code",
   "execution_count": null,
   "metadata": {
    "lc_cell_meme": {
     "current": "01a4a7fe-6fa9-11e9-96dc-02420a00000b",
     "next": "01a4a830-6fa9-11e9-96dc-02420a00000b",
     "previous": "01a4a7cc-6fa9-11e9-96dc-02420a00000b"
    }
   },
   "outputs": [],
   "source": [
    "for j in range(26):\n",
    "    for i in range(size):\n",
    "        decipher_text[i]=chr(ord(cipher_text[i])-int(j))\n",
    "    print(decipher_text)"
   ]
  },
  {
   "cell_type": "markdown",
   "metadata": {
    "lc_cell_meme": {
     "current": "01a4a830-6fa9-11e9-96dc-02420a00000b",
     "next": "01a4a862-6fa9-11e9-96dc-02420a00000b",
     "previous": "01a4a7fe-6fa9-11e9-96dc-02420a00000b"
    }
   },
   "source": [
    "![DH-1](http://i.imgur.com/LC5mvn9.png)"
   ]
  },
  {
   "cell_type": "markdown",
   "metadata": {
    "lc_cell_meme": {
     "current": "01a4a862-6fa9-11e9-96dc-02420a00000b",
     "next": "01a4a89e-6fa9-11e9-96dc-02420a00000b",
     "previous": "01a4a830-6fa9-11e9-96dc-02420a00000b"
    }
   },
   "source": [
    "![DH-2](http://i.imgur.com/CkYNGuY.png)"
   ]
  },
  {
   "cell_type": "markdown",
   "metadata": {
    "lc_cell_meme": {
     "current": "01a4a89e-6fa9-11e9-96dc-02420a00000b",
     "next": "01a4a8d0-6fa9-11e9-96dc-02420a00000b",
     "previous": "01a4a862-6fa9-11e9-96dc-02420a00000b"
    }
   },
   "source": [
    "**Diffie-Hellman鍵共有方式**"
   ]
  },
  {
   "cell_type": "code",
   "execution_count": null,
   "metadata": {
    "lc_cell_meme": {
     "current": "01a4a8d0-6fa9-11e9-96dc-02420a00000b",
     "next": "01a4a902-6fa9-11e9-96dc-02420a00000b",
     "previous": "01a4a89e-6fa9-11e9-96dc-02420a00000b"
    }
   },
   "outputs": [],
   "source": [
    "q=7  # 位数\n",
    "g=3  # 生成元\n",
    "for n in range(q):\n",
    "    print((g**n)%q, end=',') "
   ]
  },
  {
   "cell_type": "markdown",
   "metadata": {
    "lc_cell_meme": {
     "current": "01a4a902-6fa9-11e9-96dc-02420a00000b",
     "next": "01a4a934-6fa9-11e9-96dc-02420a00000b",
     "previous": "01a4a8d0-6fa9-11e9-96dc-02420a00000b"
    }
   },
   "source": [
    "![DH-3](http://i.imgur.com/E3VkZvi.png)"
   ]
  },
  {
   "cell_type": "markdown",
   "metadata": {
    "lc_cell_meme": {
     "current": "01a4a934-6fa9-11e9-96dc-02420a00000b",
     "next": "01a4a966-6fa9-11e9-96dc-02420a00000b",
     "previous": "01a4a902-6fa9-11e9-96dc-02420a00000b"
    }
   },
   "source": [
    "![DH-4](http://i.imgur.com/vqpUlkl.png)"
   ]
  },
  {
   "cell_type": "markdown",
   "metadata": {
    "lc_cell_meme": {
     "current": "01a4a966-6fa9-11e9-96dc-02420a00000b",
     "next": "01a4a998-6fa9-11e9-96dc-02420a00000b",
     "previous": "01a4a934-6fa9-11e9-96dc-02420a00000b"
    }
   },
   "source": [
    "![DH-5](http://i.imgur.com/fnT3pNB.png)"
   ]
  },
  {
   "cell_type": "markdown",
   "metadata": {
    "lc_cell_meme": {
     "current": "01a4a998-6fa9-11e9-96dc-02420a00000b",
     "next": "01a4a9d4-6fa9-11e9-96dc-02420a00000b",
     "previous": "01a4a966-6fa9-11e9-96dc-02420a00000b"
    }
   },
   "source": [
    "**DH法の計算例**　<br>　<br>\n",
    "「bob から alice へのメッセージ」  $ \\equiv  g^x\\mod{q}　$ <br>\n",
    "「alice から bobへの メッセージ」  $ \\equiv  g^y\\mod{q}　$ <br><br>\n",
    "「bobが計算する鍵」　$ \\equiv$ $(g^y)^x \\mod{q}　$ <br>\n",
    "「aliceが計算する鍵」　$ \\equiv$ $(g^x)^y \\mod{q}　$ <br>\n",
    "\n",
    "$ (g^y)^x \\equiv(g^x)^y  $ だから　同じ鍵を獲得できる <br>\n",
    "<br>\n",
    "\n"
   ]
  },
  {
   "cell_type": "code",
   "execution_count": null,
   "metadata": {
    "lc_cell_meme": {
     "current": "01a4a9d4-6fa9-11e9-96dc-02420a00000b",
     "next": "01a4aa06-6fa9-11e9-96dc-02420a00000b",
     "previous": "01a4a998-6fa9-11e9-96dc-02420a00000b"
    }
   },
   "outputs": [],
   "source": [
    "q=197 # 位数\n",
    "g=3   # 生成元\n",
    "x=51  # bobの使った乱数\n",
    "y=55  # aliceの使った乱数\n",
    "msg_bob_to_alice=(g ** x) % q \n",
    "print('msg_bob_to_alice=', msg_bob_to_alice)\n",
    "!sleep 5\n",
    "msg_alice_to_bob=(g ** y) % q \n",
    "print('msg_alice_to_bob=', msg_alice_to_bob)\n",
    "!sleep 5\n",
    "key_bob=(msg_alice_to_bob**x)%q\n",
    "print('key_bob=', key_bob)\n",
    "!sleep 7\n",
    "key_alice=(msg_bob_to_alice**y)%q\n",
    "print('key_alice=', key_alice)"
   ]
  },
  {
   "cell_type": "markdown",
   "metadata": {
    "lc_cell_meme": {
     "current": "01a4aa06-6fa9-11e9-96dc-02420a00000b",
     "next": "01a4aa38-6fa9-11e9-96dc-02420a00000b",
     "previous": "01a4a9d4-6fa9-11e9-96dc-02420a00000b"
    }
   },
   "source": [
    "**DH法の計算例 （ちょっと　設定を変えてみよう：bobやaliceの使う乱数を変えてみよう）**"
   ]
  },
  {
   "cell_type": "code",
   "execution_count": null,
   "metadata": {
    "lc_cell_meme": {
     "current": "01a4aa38-6fa9-11e9-96dc-02420a00000b",
     "next": "01a4aa6a-6fa9-11e9-96dc-02420a00000b",
     "previous": "01a4aa06-6fa9-11e9-96dc-02420a00000b"
    }
   },
   "outputs": [],
   "source": [
    "q=197 # 位数\n",
    "g=3   # 生成元\n",
    "x=101  # bobの使った乱数\n",
    "y=3  # aliceの使った乱数\n",
    "msg_bob_to_alice=(g ** x) % q \n",
    "print('msg_bob_to_alice=', msg_bob_to_alice)\n",
    "msg_alice_to_bob=(g ** y) % q \n",
    "print('msg_alice_to_bob=', msg_alice_to_bob)\n",
    "key_bob=(msg_alice_to_bob**x)%q\n",
    "print('key_bob=', key_bob)\n",
    "key_alice=(msg_bob_to_alice**y)%q\n",
    "print('key_alice=', key_alice)"
   ]
  },
  {
   "cell_type": "markdown",
   "metadata": {
    "lc_cell_meme": {
     "current": "01a4aa6a-6fa9-11e9-96dc-02420a00000b",
     "next": "01a4aa9c-6fa9-11e9-96dc-02420a00000b",
     "previous": "01a4aa38-6fa9-11e9-96dc-02420a00000b"
    }
   },
   "source": [
    "**DH法の計算例 （もっと　設定を変えてみよう：　位数や生成元を変えてみよう）**"
   ]
  },
  {
   "cell_type": "code",
   "execution_count": null,
   "metadata": {
    "lc_cell_meme": {
     "current": "01a4aa9c-6fa9-11e9-96dc-02420a00000b",
     "next": "01a4ab1e-6fa9-11e9-96dc-02420a00000b",
     "previous": "01a4aa6a-6fa9-11e9-96dc-02420a00000b"
    }
   },
   "outputs": [],
   "source": [
    "q=7 # 位数\n",
    "g=3   # 生成元\n",
    "x=101  # bobの使った乱数\n",
    "y=3  # aliceの使った乱数\n",
    "msg_bob_to_alice=(g ** x) % q \n",
    "print('msg_bob_to_alice=', msg_bob_to_alice)\n",
    "msg_alice_to_bob=(g ** y) % q \n",
    "print('msg_alice_to_bob=', msg_alice_to_bob)\n",
    "key_bob=(msg_alice_to_bob**x)%q\n",
    "print('key_bob=', key_bob)\n",
    "key_alice=(msg_bob_to_alice**y)%q\n",
    "print('key_alice=', key_alice)"
   ]
  },
  {
   "cell_type": "code",
   "execution_count": null,
   "metadata": {
    "lc_cell_meme": {
     "current": "01a4ab1e-6fa9-11e9-96dc-02420a00000b",
     "history": [
      {
       "current": "01a4ab1e-6fa9-11e9-96dc-02420a00000b",
       "next": "01a4ac2c-6fa9-11e9-96dc-02420a00000b",
       "previous": "01a4aa9c-6fa9-11e9-96dc-02420a00000b"
      }
     ],
     "next": "01a4ab1e-6fa9-11e9-96dc-02420a00000b",
     "previous": "01a4aa9c-6fa9-11e9-96dc-02420a00000b"
    }
   },
   "outputs": [],
   "source": [
    "q=9973 # 位数\n",
    "g=17   # 生成元\n",
    "x=101  # bobの使った乱数\n",
    "y=3  # aliceの使った乱数\n",
    "msg_bob_to_alice=(g ** x) % q \n",
    "print('msg_bob_to_alice=', msg_bob_to_alice)\n",
    "msg_alice_to_bob=(g ** y) % q \n",
    "print('msg_alice_to_bob=', msg_alice_to_bob)\n",
    "key_bob=(msg_alice_to_bob**x)%q\n",
    "print('key_bob=', key_bob)\n",
    "key_alice=(msg_bob_to_alice**y)%q\n",
    "print('key_alice=', key_alice)"
   ]
  },
  {
   "cell_type": "code",
   "execution_count": null,
   "metadata": {
    "lc_cell_meme": {
     "current": "01a4ab1e-6fa9-11e9-96dc-02420a00000b",
     "history": [
      {
       "current": "01a4ab1e-6fa9-11e9-96dc-02420a00000b",
       "next": "01a4ac2c-6fa9-11e9-96dc-02420a00000b",
       "previous": "01a4aa9c-6fa9-11e9-96dc-02420a00000b"
      }
     ],
     "next": "01a4ac2c-6fa9-11e9-96dc-02420a00000b",
     "previous": "01a4ab1e-6fa9-11e9-96dc-02420a00000b"
    }
   },
   "outputs": [],
   "source": [
    "q=9973 # 位数\n",
    "g=17   # 生成元\n",
    "x=333  # bobの使った乱数\n",
    "y=777  # aliceの使った乱数\n",
    "msg_bob_to_alice=(g ** x) % q \n",
    "print('msg_bob_to_alice=', msg_bob_to_alice)\n",
    "msg_alice_to_bob=(g ** y) % q \n",
    "print('msg_alice_to_bob=', msg_alice_to_bob)\n",
    "key_bob=(msg_alice_to_bob**x)%q\n",
    "print('key_bob=', key_bob)\n",
    "key_alice=(msg_bob_to_alice**y)%q\n",
    "print('key_alice=', key_alice)"
   ]
  },
  {
   "cell_type": "markdown",
   "metadata": {
    "lc_cell_meme": {
     "current": "01a4ac2c-6fa9-11e9-96dc-02420a00000b",
     "next": "01a4ac7c-6fa9-11e9-96dc-02420a00000b",
     "previous": "01a4ab1e-6fa9-11e9-96dc-02420a00000b"
    }
   },
   "source": [
    "**整数論をちょっと** <br>   \n",
    "**フェルマーの小定理**"
   ]
  },
  {
   "cell_type": "markdown",
   "metadata": {
    "lc_cell_meme": {
     "current": "01a4ac7c-6fa9-11e9-96dc-02420a00000b",
     "next": "01a4acae-6fa9-11e9-96dc-02420a00000b",
     "previous": "01a4ac2c-6fa9-11e9-96dc-02420a00000b"
    }
   },
   "source": [
    "**フェルマーの小定理**   \n",
    "p が素数で a が p の倍数でなければ\n",
    "$a^{p-1}\\equiv 1 \\pmod{p}$   \n",
    "(以下は　p=19, a=3の例)"
   ]
  },
  {
   "cell_type": "markdown",
   "metadata": {
    "lc_cell_meme": {
     "current": "01a4acae-6fa9-11e9-96dc-02420a00000b",
     "history": [
      {
       "current": "01a4acae-6fa9-11e9-96dc-02420a00000b",
       "next": "01a4ace0-6fa9-11e9-96dc-02420a00000b",
       "previous": "01a4ac7c-6fa9-11e9-96dc-02420a00000b"
      }
     ],
     "next": "01a4ad4e-6fa9-11e9-96dc-02420a00000b",
     "previous": "01a4ac7c-6fa9-11e9-96dc-02420a00000b"
    }
   },
   "source": [
    "![3s](http://cdn-ak.f.st-hatena.com/images/fotolife/t/tsujimotter/20151208/20151208000250.png)"
   ]
  },
  {
   "cell_type": "code",
   "execution_count": null,
   "metadata": {
    "lc_cell_meme": {
     "current": "01a4ad4e-6fa9-11e9-96dc-02420a00000b",
     "history": [
      {
       "current": "01a4ad4e-6fa9-11e9-96dc-02420a00000b",
       "next": "01a4ad80-6fa9-11e9-96dc-02420a00000b",
       "previous": "01a4ad1c-6fa9-11e9-96dc-02420a00000b"
      }
     ],
     "next": "01a4ace0-6fa9-11e9-96dc-02420a00000b",
     "previous": "01a4acae-6fa9-11e9-96dc-02420a00000b"
    }
   },
   "outputs": [],
   "source": [
    "p=19\n",
    "a=3\n",
    "for n in range(p):\n",
    "    print((a**n)%p, end=',') "
   ]
  },
  {
   "cell_type": "markdown",
   "metadata": {
    "lc_cell_meme": {
     "current": "01a4ace0-6fa9-11e9-96dc-02420a00000b",
     "history": [
      {
       "current": "01a4ace0-6fa9-11e9-96dc-02420a00000b",
       "next": "01a4ad1c-6fa9-11e9-96dc-02420a00000b",
       "previous": "01a4acae-6fa9-11e9-96dc-02420a00000b"
      }
     ],
     "next": "01a4ad1c-6fa9-11e9-96dc-02420a00000b",
     "previous": "01a4ad4e-6fa9-11e9-96dc-02420a00000b"
    }
   },
   "source": [
    "**他の例を作ってみましょう**"
   ]
  },
  {
   "cell_type": "code",
   "execution_count": null,
   "metadata": {
    "lc_cell_meme": {
     "current": "01a4ad1c-6fa9-11e9-96dc-02420a00000b",
     "history": [
      {
       "current": "01a4ad1c-6fa9-11e9-96dc-02420a00000b",
       "next": "01a4ad4e-6fa9-11e9-96dc-02420a00000b",
       "previous": "01a4ace0-6fa9-11e9-96dc-02420a00000b"
      }
     ],
     "next": "01a4ad80-6fa9-11e9-96dc-02420a00000b",
     "previous": "01a4ace0-6fa9-11e9-96dc-02420a00000b"
    }
   },
   "outputs": [],
   "source": [
    "p=23\n",
    "a=7\n",
    "for i in range(p):\n",
    "    print((a**i)%p, end=',')"
   ]
  },
  {
   "cell_type": "code",
   "execution_count": null,
   "metadata": {
    "lc_cell_meme": {
     "current": "01a4ad80-6fa9-11e9-96dc-02420a00000b",
     "history": [
      {
       "current": "01a4ad80-6fa9-11e9-96dc-02420a00000b",
       "next": "01a4adb2-6fa9-11e9-96dc-02420a00000b",
       "previous": "01a4ad4e-6fa9-11e9-96dc-02420a00000b"
      }
     ],
     "next": "01a4adb2-6fa9-11e9-96dc-02420a00000b",
     "previous": "01a4ad1c-6fa9-11e9-96dc-02420a00000b"
    }
   },
   "outputs": [],
   "source": [
    "p=233\n",
    "a=29\n",
    "for i in range(p):\n",
    "    print((a**i)%p, end=',')"
   ]
  },
  {
   "cell_type": "markdown",
   "metadata": {
    "lc_cell_meme": {
     "current": "01a4adb2-6fa9-11e9-96dc-02420a00000b",
     "next": "01a4aee8-6fa9-11e9-96dc-02420a00000b",
     "previous": "01a4ad80-6fa9-11e9-96dc-02420a00000b"
    }
   },
   "source": [
    "**ちょっと素数表を作っておきましょう**"
   ]
  },
  {
   "cell_type": "code",
   "execution_count": null,
   "metadata": {
    "lc_cell_meme": {
     "current": "01a4aee8-6fa9-11e9-96dc-02420a00000b",
     "next": "01a4af38-6fa9-11e9-96dc-02420a00000b",
     "previous": "01a4adb2-6fa9-11e9-96dc-02420a00000b"
    }
   },
   "outputs": [],
   "source": [
    "def generate_primes():\n",
    "    \"\"\"\n",
    "    3桁までの素数のリストを生成する。\n",
    "    :return:3桁までの素数のリスト\n",
    "    \"\"\"\n",
    "    primes = []\n",
    "    for i in range(2,10000):\n",
    "        flag = True\n",
    "        for j in range(2,i):\n",
    "            if i%j == 0:\n",
    "                flag = False\n",
    "        if flag:\n",
    "            primes.append(i)\n",
    "    return primes"
   ]
  },
  {
   "cell_type": "code",
   "execution_count": null,
   "metadata": {
    "lc_cell_meme": {
     "current": "01a4af38-6fa9-11e9-96dc-02420a00000b",
     "next": "01a4af7e-6fa9-11e9-96dc-02420a00000b",
     "previous": "01a4aee8-6fa9-11e9-96dc-02420a00000b"
    }
   },
   "outputs": [],
   "source": [
    "primes=generate_primes()\n",
    "print(primes)"
   ]
  },
  {
   "cell_type": "markdown",
   "metadata": {
    "lc_cell_meme": {
     "current": "01a4af7e-6fa9-11e9-96dc-02420a00000b",
     "next": "01a4afb0-6fa9-11e9-96dc-02420a00000b",
     "previous": "01a4af38-6fa9-11e9-96dc-02420a00000b"
    }
   },
   "source": [
    "![angou-1](http://i.imgur.com/wqfotbp.png)"
   ]
  },
  {
   "cell_type": "code",
   "execution_count": null,
   "metadata": {
    "lc_cell_meme": {
     "current": "01a4afb0-6fa9-11e9-96dc-02420a00000b",
     "next": "01a4afec-6fa9-11e9-96dc-02420a00000b",
     "previous": "01a4af7e-6fa9-11e9-96dc-02420a00000b"
    }
   },
   "outputs": [],
   "source": [
    "68 ** 3 "
   ]
  },
  {
   "cell_type": "code",
   "execution_count": null,
   "metadata": {
    "lc_cell_meme": {
     "current": "01a4afec-6fa9-11e9-96dc-02420a00000b",
     "next": "01a4b01e-6fa9-11e9-96dc-02420a00000b",
     "previous": "01a4afb0-6fa9-11e9-96dc-02420a00000b"
    }
   },
   "outputs": [],
   "source": [
    "(68 ** 3) % 493"
   ]
  },
  {
   "cell_type": "code",
   "execution_count": null,
   "metadata": {
    "lc_cell_meme": {
     "current": "01a4b01e-6fa9-11e9-96dc-02420a00000b",
     "next": "01a4b050-6fa9-11e9-96dc-02420a00000b",
     "previous": "01a4afec-6fa9-11e9-96dc-02420a00000b"
    }
   },
   "outputs": [],
   "source": [
    "283 ** 3"
   ]
  },
  {
   "cell_type": "code",
   "execution_count": null,
   "metadata": {
    "lc_cell_meme": {
     "current": "01a4b050-6fa9-11e9-96dc-02420a00000b",
     "next": "01a4b08c-6fa9-11e9-96dc-02420a00000b",
     "previous": "01a4b01e-6fa9-11e9-96dc-02420a00000b"
    }
   },
   "outputs": [],
   "source": [
    "(283 ** 3) % 493"
   ]
  },
  {
   "cell_type": "markdown",
   "metadata": {
    "lc_cell_meme": {
     "current": "01a4b08c-6fa9-11e9-96dc-02420a00000b",
     "next": "01a4b0be-6fa9-11e9-96dc-02420a00000b",
     "previous": "01a4b050-6fa9-11e9-96dc-02420a00000b"
    }
   },
   "source": [
    "![angou-2](http://i.imgur.com/rrnOKWi.png)"
   ]
  },
  {
   "cell_type": "code",
   "execution_count": null,
   "metadata": {
    "lc_cell_meme": {
     "current": "01a4b0be-6fa9-11e9-96dc-02420a00000b",
     "next": "01a4b14a-6fa9-11e9-96dc-02420a00000b",
     "previous": "01a4b08c-6fa9-11e9-96dc-02420a00000b"
    }
   },
   "outputs": [],
   "source": [
    "(391 ** 299) % 493"
   ]
  },
  {
   "cell_type": "code",
   "execution_count": null,
   "metadata": {
    "lc_cell_meme": {
     "current": "01a4b14a-6fa9-11e9-96dc-02420a00000b",
     "next": "01a4b1a4-6fa9-11e9-96dc-02420a00000b",
     "previous": "01a4b0be-6fa9-11e9-96dc-02420a00000b"
    }
   },
   "outputs": [],
   "source": [
    "(5 ** 299) % 493"
   ]
  },
  {
   "cell_type": "code",
   "execution_count": null,
   "metadata": {
    "lc_cell_meme": {
     "current": "01a4b1a4-6fa9-11e9-96dc-02420a00000b",
     "next": "01a4b1e0-6fa9-11e9-96dc-02420a00000b",
     "previous": "01a4b14a-6fa9-11e9-96dc-02420a00000b"
    }
   },
   "outputs": [],
   "source": [
    "(5 ** 299)"
   ]
  },
  {
   "cell_type": "code",
   "execution_count": null,
   "metadata": {
    "lc_cell_meme": {
     "current": "01a4b1e0-6fa9-11e9-96dc-02420a00000b",
     "next": "01a4b212-6fa9-11e9-96dc-02420a00000b",
     "previous": "01a4b1a4-6fa9-11e9-96dc-02420a00000b"
    }
   },
   "outputs": [],
   "source": [
    "(391 ** 299)"
   ]
  },
  {
   "cell_type": "markdown",
   "metadata": {
    "lc_cell_meme": {
     "current": "01a4b212-6fa9-11e9-96dc-02420a00000b",
     "history": [
      {
       "current": "01a4b212-6fa9-11e9-96dc-02420a00000b",
       "next": "01a4b258-6fa9-11e9-96dc-02420a00000b",
       "previous": "01a4b1e0-6fa9-11e9-96dc-02420a00000b"
      }
     ],
     "next": "641ced10-c0ed-11ea-bd7d-02420a010115",
     "previous": "01a4b1e0-6fa9-11e9-96dc-02420a00000b"
    }
   },
   "source": [
    "![angou-3](http://i.imgur.com/UPGTxnE.png)"
   ]
  },
  {
   "cell_type": "markdown",
   "metadata": {
    "lc_cell_meme": {
     "current": "641ced10-c0ed-11ea-bd7d-02420a010115",
     "history": [
      {
       "current": "641ced10-c0ed-11ea-bd7d-02420a010115",
       "next": "01a4b2c6-6fa9-11e9-96dc-02420a00000b",
       "previous": "e352fc4c-9ad7-11e9-8556-02420a010127"
      }
     ],
     "next": "01a4b258-6fa9-11e9-96dc-02420a00000b",
     "previous": "01a4b212-6fa9-11e9-96dc-02420a00000b"
    }
   },
   "source": [
    "**＜発見的実験＞**"
   ]
  },
  {
   "cell_type": "markdown",
   "metadata": {
    "lc_cell_meme": {
     "current": "01a4b258-6fa9-11e9-96dc-02420a00000b",
     "history": [
      {
       "current": "01a4b258-6fa9-11e9-96dc-02420a00000b",
       "next": "01a4b294-6fa9-11e9-96dc-02420a00000b",
       "previous": "01a4b212-6fa9-11e9-96dc-02420a00000b"
      }
     ],
     "next": "01a4b294-6fa9-11e9-96dc-02420a00000b",
     "previous": "641ced10-c0ed-11ea-bd7d-02420a010115"
    }
   },
   "source": [
    "**plane_textのところにいろんな数字を入れて　暗号・復号操作を行ってみましょう**"
   ]
  },
  {
   "cell_type": "code",
   "execution_count": null,
   "metadata": {
    "lc_cell_meme": {
     "current": "01a4b294-6fa9-11e9-96dc-02420a00000b",
     "history": [
      {
       "current": "01a4b294-6fa9-11e9-96dc-02420a00000b",
       "next": "01a4b2c6-6fa9-11e9-96dc-02420a00000b",
       "previous": "01a4b258-6fa9-11e9-96dc-02420a00000b"
      }
     ],
     "next": "e352fa1c-9ad7-11e9-8556-02420a010127",
     "previous": "01a4b258-6fa9-11e9-96dc-02420a00000b"
    }
   },
   "outputs": [],
   "source": [
    "plane_text = 247\n",
    "encrypted_text = (plane_text ** 3) % 493\n",
    "decrypted_text = (encrypted_text ** 299) % 493\n",
    "print(\"plane_text=\",plane_text)\n",
    "print(\"encrypted_text=\",encrypted_text)\n",
    "print(\"decrypted_text=\",decrypted_text)"
   ]
  },
  {
   "cell_type": "markdown",
   "metadata": {
    "lc_cell_meme": {
     "current": "e352fa1c-9ad7-11e9-8556-02420a010127",
     "next": "e352fc4c-9ad7-11e9-8556-02420a010127",
     "previous": "01a4b294-6fa9-11e9-96dc-02420a00000b"
    }
   },
   "source": [
    "**[Quiz-1]** <br>\n",
    "**e=3** <br>\n",
    "**n=493** <br>\n",
    "**d=299** <br>\n",
    "**とした場合** <br>\n",
    "**平文247に対する　暗号文は何になりますか？**"
   ]
  },
  {
   "cell_type": "code",
   "execution_count": null,
   "metadata": {
    "lc_cell_meme": {
     "current": "e352fc4c-9ad7-11e9-8556-02420a010127",
     "history": [
      {
       "current": "e352fc4c-9ad7-11e9-8556-02420a010127",
       "next": "01a4b2c6-6fa9-11e9-96dc-02420a00000b",
       "previous": "e352fa1c-9ad7-11e9-8556-02420a010127"
      }
     ],
     "next": "e352fa1c-9ad7-11e9-8556-02420a010127",
     "previous": "e352fa1c-9ad7-11e9-8556-02420a010127"
    }
   },
   "outputs": [],
   "source": [
    "ANSWER_1 = input(\"PROBLEM_1= 平文　247に対する　暗号文は何になりますか？\")\n",
    "print(\"ANSWER_1 ==\", ANSWER_1)"
   ]
  },
  {
   "cell_type": "markdown",
   "metadata": {
    "lc_cell_meme": {
     "current": "e352fa1c-9ad7-11e9-8556-02420a010127",
     "history": [
      {
       "current": "e352fa1c-9ad7-11e9-8556-02420a010127",
       "next": "e352fc4c-9ad7-11e9-8556-02420a010127",
       "previous": "01a4b294-6fa9-11e9-96dc-02420a00000b"
      },
      {
       "current": "e352fa1c-9ad7-11e9-8556-02420a010127",
       "next": "01a4b2c6-6fa9-11e9-96dc-02420a00000b",
       "previous": "e352fc4c-9ad7-11e9-8556-02420a010127"
      }
     ],
     "next": "e352fc4c-9ad7-11e9-8556-02420a010127",
     "previous": "e352fc4c-9ad7-11e9-8556-02420a010127"
    }
   },
   "source": [
    "**[Quiz-２]** <br>\n",
    "**その暗号文に対する　復号文は何になりますか？**"
   ]
  },
  {
   "cell_type": "code",
   "execution_count": null,
   "metadata": {
    "lc_cell_meme": {
     "current": "e352fc4c-9ad7-11e9-8556-02420a010127",
     "history": [
      {
       "current": "e352fc4c-9ad7-11e9-8556-02420a010127",
       "next": "01a4b2c6-6fa9-11e9-96dc-02420a00000b",
       "previous": "e352fa1c-9ad7-11e9-8556-02420a010127"
      },
      {
       "current": "e352fc4c-9ad7-11e9-8556-02420a010127",
       "next": "e352fa1c-9ad7-11e9-8556-02420a010127",
       "previous": "e352fa1c-9ad7-11e9-8556-02420a010127"
      },
      {
       "current": "e352fc4c-9ad7-11e9-8556-02420a010127",
       "next": "01a4b2c6-6fa9-11e9-96dc-02420a00000b",
       "previous": "e352fa1c-9ad7-11e9-8556-02420a010127"
      }
     ],
     "next": "641ced10-c0ed-11ea-bd7d-02420a010115",
     "previous": "e352fa1c-9ad7-11e9-8556-02420a010127"
    }
   },
   "outputs": [],
   "source": [
    "ANSWER_2 = input(\"PROBLEM_2= その暗号文はに対する復号文は何になりますか？\")\n",
    "print(\"ANSWER_2 ==\", ANSWER_2)"
   ]
  },
  {
   "cell_type": "markdown",
   "metadata": {
    "lc_cell_meme": {
     "current": "641ced10-c0ed-11ea-bd7d-02420a010115",
     "next": "01a4b2c6-6fa9-11e9-96dc-02420a00000b",
     "previous": "e352fc4c-9ad7-11e9-8556-02420a010127"
    }
   },
   "source": [
    "**＜検証的実験＞**"
   ]
  },
  {
   "cell_type": "markdown",
   "metadata": {
    "lc_cell_meme": {
     "current": "01a4b2c6-6fa9-11e9-96dc-02420a00000b",
     "history": [
      {
       "current": "01a4b2c6-6fa9-11e9-96dc-02420a00000b",
       "next": "01a4b2f8-6fa9-11e9-96dc-02420a00000b",
       "previous": "01a4b294-6fa9-11e9-96dc-02420a00000b"
      },
      {
       "current": "01a4b2c6-6fa9-11e9-96dc-02420a00000b",
       "next": "01a4b2f8-6fa9-11e9-96dc-02420a00000b",
       "previous": "e352fc4c-9ad7-11e9-8556-02420a010127"
      },
      {
       "current": "01a4b2c6-6fa9-11e9-96dc-02420a00000b",
       "next": "01a4b2f8-6fa9-11e9-96dc-02420a00000b",
       "previous": "e352fa1c-9ad7-11e9-8556-02420a010127"
      },
      {
       "current": "01a4b2c6-6fa9-11e9-96dc-02420a00000b",
       "next": "01a4b2f8-6fa9-11e9-96dc-02420a00000b",
       "previous": "e352fc4c-9ad7-11e9-8556-02420a010127"
      }
     ],
     "next": "01a4b2f8-6fa9-11e9-96dc-02420a00000b",
     "previous": "641ced10-c0ed-11ea-bd7d-02420a010115"
    }
   },
   "source": [
    "**e, n ,d を別の組み合わせにして暗号化、復号化を試してみましょう**"
   ]
  },
  {
   "cell_type": "code",
   "execution_count": null,
   "metadata": {
    "lc_cell_meme": {
     "current": "01a4b2f8-6fa9-11e9-96dc-02420a00000b",
     "next": "01a4b334-6fa9-11e9-96dc-02420a00000b",
     "previous": "01a4b2c6-6fa9-11e9-96dc-02420a00000b"
    }
   },
   "outputs": [],
   "source": [
    "e=3\n",
    "n=493\n",
    "d=299\n",
    "plane_text = 2\n",
    "encrypted_text = (plane_text ** e) % n\n",
    "decrypted_text = (encrypted_text ** d) % n\n",
    "print(\"plane_text=\",plane_text)\n",
    "print(\"encrypted_text=\",encrypted_text)\n",
    "print(\"decrypted_text=\",decrypted_text)"
   ]
  },
  {
   "cell_type": "markdown",
   "metadata": {
    "lc_cell_meme": {
     "current": "01a4b334-6fa9-11e9-96dc-02420a00000b",
     "next": "01a4b366-6fa9-11e9-96dc-02420a00000b",
     "previous": "01a4b2f8-6fa9-11e9-96dc-02420a00000b"
    }
   },
   "source": [
    "**ユークリッド互除法の計算例**"
   ]
  },
  {
   "cell_type": "code",
   "execution_count": null,
   "metadata": {
    "lc_cell_meme": {
     "current": "01a4b366-6fa9-11e9-96dc-02420a00000b",
     "next": "01a4b3a2-6fa9-11e9-96dc-02420a00000b",
     "previous": "01a4b334-6fa9-11e9-96dc-02420a00000b"
    }
   },
   "outputs": [],
   "source": [
    "#!/usr/bin/env python\n",
    "# coding: utf-8\n",
    "\n",
    "def gcd(x, y):\n",
    "    r = modlog(x, y)\n",
    "    while r != 0:\n",
    "        x = y\n",
    "        y = r\n",
    "        r = modlog(x, y)\n",
    "    return y\n",
    "\n",
    "def modlog(x, y):\n",
    "    r = x % y\n",
    "    print (u'%d ÷ %d の余りは %d です' % (x, y, r))\n",
    "    return r\n",
    "\n",
    "A=130\n",
    "B=59\n",
    "gcd(A,B)"
   ]
  },
  {
   "cell_type": "markdown",
   "metadata": {
    "lc_cell_meme": {
     "current": "01a4b3a2-6fa9-11e9-96dc-02420a00000b",
     "next": "01a4b3d4-6fa9-11e9-96dc-02420a00000b",
     "previous": "01a4b366-6fa9-11e9-96dc-02420a00000b"
    }
   },
   "source": [
    "**eとnからd を求める　拡張ユークリッド互除法　関数定義**"
   ]
  },
  {
   "cell_type": "code",
   "execution_count": null,
   "metadata": {
    "lc_cell_meme": {
     "current": "01a4b3d4-6fa9-11e9-96dc-02420a00000b",
     "next": "01a4b442-6fa9-11e9-96dc-02420a00000b",
     "previous": "01a4b3a2-6fa9-11e9-96dc-02420a00000b"
    }
   },
   "outputs": [],
   "source": [
    "def egcd(a, b):\n",
    "    (x, lastx) = (0, 1)\n",
    "    (y, lasty) = (1, 0)\n",
    "    while b != 0:\n",
    "        q = a // b\n",
    "        (a, b) = (b, a % b)\n",
    "        (x, lastx) = (lastx - q * x, x)\n",
    "        (y, lasty) = (lasty - q * y, y)\n",
    "    return (lastx, lasty, a)\n",
    "\n",
    "# ax ≡ 1 (mod m)\n",
    "def modinv(a, m):\n",
    "    (inv, q, gcd_val) = egcd(a, m)\n",
    "    return inv % m"
   ]
  },
  {
   "cell_type": "markdown",
   "metadata": {
    "lc_cell_meme": {
     "current": "01a4b442-6fa9-11e9-96dc-02420a00000b",
     "next": "01a4b492-6fa9-11e9-96dc-02420a00000b",
     "previous": "01a4b3d4-6fa9-11e9-96dc-02420a00000b"
    }
   },
   "source": [
    "**eとnからd を求める　拡張ユークリッド互除法　計算例**"
   ]
  },
  {
   "cell_type": "code",
   "execution_count": null,
   "metadata": {
    "lc_cell_meme": {
     "current": "01a4b492-6fa9-11e9-96dc-02420a00000b",
     "next": "01a4b4c4-6fa9-11e9-96dc-02420a00000b",
     "previous": "01a4b442-6fa9-11e9-96dc-02420a00000b"
    }
   },
   "outputs": [],
   "source": [
    "e=59\n",
    "n=130\n",
    "modinv(e, n)"
   ]
  },
  {
   "cell_type": "code",
   "execution_count": null,
   "metadata": {
    "lc_cell_meme": {
     "current": "01a4b4c4-6fa9-11e9-96dc-02420a00000b",
     "next": "01a4b500-6fa9-11e9-96dc-02420a00000b",
     "previous": "01a4b492-6fa9-11e9-96dc-02420a00000b"
    }
   },
   "outputs": [],
   "source": [
    "e=3\n",
    "n=448\n",
    "modinv(e, n)"
   ]
  },
  {
   "cell_type": "code",
   "execution_count": null,
   "metadata": {
    "lc_cell_meme": {
     "current": "01a4b500-6fa9-11e9-96dc-02420a00000b",
     "next": null,
     "previous": "01a4b4c4-6fa9-11e9-96dc-02420a00000b"
    }
   },
   "outputs": [],
   "source": [
    "e=5\n",
    "n=7488\n",
    "modinv(e, n)"
   ]
  }
 ],
 "metadata": {
  "kernelspec": {
   "display_name": "Python 3",
   "language": "python",
   "name": "python3"
  },
  "language_info": {
   "file_extension": ".py",
   "mimetype": "text/x-python",
   "name": "python",
   "nbconvert_exporter": "python",
   "pygments_lexer": "ipython3",
   "version": "3.7.3"
  },
  "lc_notebook_meme": {
   "current": "01a4a3b2-6fa9-11e9-96dc-02420a00000b",
   "lc_server_signature": {
    "current": {
     "notebook_dir": "/home/yoko69d621",
     "notebook_path": "/textbook/nw_sec",
     "server_url": "https://nb03.ecloud.nii.ac.jp/user/yoko69d621/",
     "signature_id": "5e786c6e-5fea-11e9-b810-02420a00005a"
    },
    "history": []
   }
  },
  "toc": {
   "base_numbering": 1,
   "nav_menu": {},
   "number_sections": true,
   "sideBar": true,
   "skip_h1_title": false,
   "title_cell": "Table of Contents",
   "title_sidebar": "Contents",
   "toc_cell": false,
   "toc_position": {},
   "toc_section_display": true,
   "toc_window_display": false
  }
 },
 "nbformat": 4,
 "nbformat_minor": 2
}
